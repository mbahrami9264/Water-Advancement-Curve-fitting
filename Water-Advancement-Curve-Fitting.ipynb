{
 "cells": [
  {
   "cell_type": "markdown",
   "metadata": {},
   "source": [
    "''' This script uses the pyomo optimization library and ipopt solver\n",
    "    to fit water advancement data based on the Y = X ^ r equation.\n",
    "    This equation is used to model the advancement of water in border irrigation.\n",
    "    X represents advancement time (min) and Y represents advancement length (m)\n",
    "'''"
   ]
  },
  {
   "cell_type": "markdown",
   "metadata": {},
   "source": [
    "## Importing the necessary libraries"
   ]
  },
  {
   "cell_type": "code",
   "execution_count": null,
   "metadata": {},
   "outputs": [],
   "source": [
    "from pyomo.environ import *\n",
    "import matplotlib.pyplot as plt"
   ]
  },
  {
   "cell_type": "markdown",
   "metadata": {},
   "source": [
    "## Creating the abstract pyomo model"
   ]
  },
  {
   "cell_type": "code",
   "execution_count": null,
   "metadata": {},
   "outputs": [],
   "source": [
    "# The Objective Function based on the Least Squared Error (LSE)\n",
    "def rule_OF(model):\n",
    "    return model.OF==sum((model.y[i] - (model.x[i])**model.r)**2 for i in model.N)/len(model.N)\n",
    "\n",
    "# Creating the Abstract Model\n",
    "model = AbstractModel()\n",
    "model.N = Set()\n",
    "model.M = Set()\n",
    "model.x=Param(model.N)\n",
    "model.y=Param(model.M)\n",
    "\n",
    "# Defining the boundaries of decision variable r\n",
    "model.r = Var(bounds=(0,1),within=Reals) \n",
    "\n",
    "# Defining the Optimization Function as a variable\n",
    "model.OF = Var(within=NonNegativeReals, initialize=1)\n",
    "model.C   = Constraint(rule=rule_OF)\n",
    "\n",
    "# Setting the optimization model to minimize the LSE formula\n",
    "model.obj1 = Objective(expr=model.OF, sense=minimize)"
   ]
  },
  {
   "cell_type": "markdown",
   "metadata": {},
   "source": [
    "## Choosing the solver, inputing data and solving the model"
   ]
  },
  {
   "cell_type": "code",
   "execution_count": null,
   "metadata": {},
   "outputs": [],
   "source": [
    "opt = SolverFactory('Ipopt') # ipopt solver is used for a non linear equation\n",
    "opt.options['max_iter'] = 3000\n",
    "instance = model.create_instance('Data.dat')\n",
    "results = opt.solve(instance, tee=True) # solves and updates instance"
   ]
  },
  {
   "cell_type": "markdown",
   "metadata": {},
   "source": [
    "## Printing the results"
   ]
  },
  {
   "cell_type": "code",
   "execution_count": null,
   "metadata": {},
   "outputs": [],
   "source": [
    "print('OF= ',value(instance.obj1))\n",
    "print('r= ',value(instance.r))"
   ]
  },
  {
   "cell_type": "markdown",
   "metadata": {},
   "source": [
    "## Plotting the curve against the data"
   ]
  },
  {
   "cell_type": "code",
   "execution_count": null,
   "metadata": {},
   "outputs": [],
   "source": [
    "fig = plt.figure(figsize=(7,7))\n",
    "\n",
    "xc = []\n",
    "yc = []\n",
    "for i in instance.N:\n",
    "    yc.append((value(instance.x[i])**(value(instance.r))))\n",
    "    xc.append(value(instance.x[i]))\n",
    "    plt.scatter(value(instance.x[i]), value(instance.y[i]))\n",
    "              \n",
    "plt.plot(xc,yc,'-r', label='Y=X^r')\n",
    "plt.title('Graph of Y=X^r')\n",
    "plt.legend(loc='upper left')\n",
    "plt.xlabel('X')\n",
    "plt.ylabel('Y');"
   ]
  }
 ],
 "metadata": {
  "kernelspec": {
   "display_name": "Python 3 (ipykernel)",
   "language": "python",
   "name": "python3"
  },
  "language_info": {
   "codemirror_mode": {
    "name": "ipython",
    "version": 3
   },
   "file_extension": ".py",
   "mimetype": "text/x-python",
   "name": "python",
   "nbconvert_exporter": "python",
   "pygments_lexer": "ipython3",
   "version": "3.9.12"
  }
 },
 "nbformat": 4,
 "nbformat_minor": 4
}
